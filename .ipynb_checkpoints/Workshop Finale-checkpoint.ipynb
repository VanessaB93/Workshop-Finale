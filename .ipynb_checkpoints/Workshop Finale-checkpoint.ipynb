{
 "cells": [
  {
   "cell_type": "code",
   "execution_count": 41,
   "metadata": {
    "collapsed": true
   },
   "outputs": [],
   "source": [
    "from larlib import*\n",
    "from pyplasm import*"
   ]
  },
  {
   "cell_type": "code",
   "execution_count": 42,
   "metadata": {},
   "outputs": [
    {
     "data": {
      "text/plain": [
       "<pyplasm.xgepy.Hpc; proxy of <Swig Object of type 'std::shared_ptr< Hpc > *' at 0x000002CAE2231BD0> >"
      ]
     },
     "execution_count": 42,
     "metadata": {},
     "output_type": "execute_result"
    }
   ],
   "source": [
    "def finestraPiccola(larghezza):\n",
    "    bordoOrizzontale = CUBOID([larghezza*0.07,larghezza*0.006,larghezza*0.007])\n",
    "    bordoOrizzontale2 = STRUCT(NN(2)([bordoOrizzontale,T(3)(larghezza*0.063)]))\n",
    "    bordoVerticale = T(3)(larghezza*0.007)(CUBOID([larghezza*0.007,larghezza*0.006,larghezza*0.056]))\n",
    "    bordoVerticale2 = STRUCT(NN(2)([bordoVerticale,T(1)(larghezza*0.063)]))\n",
    "    anta = T([1,2,3])([larghezza*0.007,larghezza*0.004,larghezza*0.007])(CUBOID([larghezza*0.056,larghezza*0.002,larghezza*0.056]))\n",
    "    bordo = STRUCT([bordoOrizzontale2,bordoVerticale2,COLOR([0.56,0.44,0.30])(anta)])\n",
    "    return bordo\n",
    "VIEW (finestraPiccola(10))"
   ]
  },
  {
   "cell_type": "markdown",
   "metadata": {},
   "source": [
    "![\"Workshop Finale 1\"](Workshop Finale 1.jpg)"
   ]
  },
  {
   "cell_type": "code",
   "execution_count": 43,
   "metadata": {},
   "outputs": [
    {
     "data": {
      "text/plain": [
       "<pyplasm.xgepy.Hpc; proxy of <Swig Object of type 'std::shared_ptr< Hpc > *' at 0x000002CAE5F70930> >"
      ]
     },
     "execution_count": 43,
     "metadata": {},
     "output_type": "execute_result"
    }
   ],
   "source": [
    "def finestraGrande(larghezza):\n",
    "    bordoOrizz = CUBOID([larghezza*0.07,larghezza*0.006,larghezza*0.007])\n",
    "    bordoOrizz2 = STRUCT(NN(2)([bordoOrizz, T(3)(larghezza*0.163)]))\n",
    "    bordoVert = T(3)(larghezza*0.007)(CUBOID([larghezza*0.007,larghezza*0.006,larghezza*0.156]))\n",
    "    bordoVert2 = STRUCT(NN(2)([bordoVert, T(1)(larghezza*0.063)]))\n",
    "    anta = T([1,2,3])([larghezza*0.007,larghezza*0.003,larghezza*0.007])(CUBOID([larghezza*0.028,larghezza*0.003,larghezza*0.156]))\n",
    "    anta2 = STRUCT(NN(2)([anta,T(1)(larghezza*0.028)]))\n",
    "    pomello = R([3,2])(PI/2)(CYLINDER([larghezza*0.0012, larghezza*0.003])(30))\n",
    "    pomello2 = T([1,3])([larghezza*0.0326,larghezza*0.085])(pomello)\n",
    "    pomelli = STRUCT(NN(2)([pomello2, T(1)(larghezza*0.00374)]))\n",
    "    antaCompleta = STRUCT([anta2,pomelli])\n",
    "    finestraCompleta = STRUCT([bordoOrizz2, bordoVert2, COLOR([0.56,0.44,0.30]) (antaCompleta)])\n",
    "    return finestraCompleta\n",
    "VIEW(finestraGrande(10))"
   ]
  },
  {
   "cell_type": "markdown",
   "metadata": {},
   "source": [
    "![\"Workshop Finale 2\"](Workshop Finale 2.jpg)"
   ]
  },
  {
   "cell_type": "code",
   "execution_count": 44,
   "metadata": {},
   "outputs": [
    {
     "name": "stdout",
     "output_type": "stream",
     "text": [
      "Child 3\n"
     ]
    },
    {
     "data": {
      "text/plain": [
       "<pyplasm.xgepy.Hpc; proxy of <Swig Object of type 'std::shared_ptr< Hpc > *' at 0x000002CAE5F44F30> >"
      ]
     },
     "execution_count": 44,
     "metadata": {},
     "output_type": "execute_result"
    }
   ],
   "source": [
    "def arco(larghezza):\n",
    "    base = CYLINDER([larghezza*0.175,larghezza*0.435])(30)\n",
    "    sfera = JOIN(SPHERE(larghezza*0.175)([larghezza*4,larghezza*4]))\n",
    "    cubo = T([1,2])([-larghezza*0.175,-larghezza*0.175])(CUBOID([larghezza*0.5,larghezza*0.5,larghezza*0.5]))\n",
    "    cupola = INTERSECTION([sfera,cubo])\n",
    "    arcoPieno = STRUCT([base, T(3)(larghezza*0.435)(cupola)])\n",
    "    arcoCompleto = INTERSECTION([arcoPieno, T([1,2])([-larghezza*0.3, -larghezza*0.05])(CUBOID([larghezza*0.6,larghezza*0.1,larghezza*0.61]))])\n",
    "    return arcoCompleto\n",
    "VIEW(arco(10))"
   ]
  },
  {
   "cell_type": "markdown",
   "metadata": {},
   "source": [
    "![\"Workshop Finale 3\"](Workshop Finale 3.jpg)"
   ]
  },
  {
   "cell_type": "code",
   "execution_count": 45,
   "metadata": {},
   "outputs": [
    {
     "name": "stdout",
     "output_type": "stream",
     "text": [
      "Child 3\n"
     ]
    },
    {
     "data": {
      "text/plain": [
       "<pyplasm.xgepy.Hpc; proxy of <Swig Object of type 'std::shared_ptr< Hpc > *' at 0x000002CAE2231A80> >"
      ]
     },
     "execution_count": 45,
     "metadata": {},
     "output_type": "execute_result"
    }
   ],
   "source": [
    "def ringhiera (larghezza):\n",
    "    parteInferiore = CUBOID([larghezza*0.035,larghezza*0.035,larghezza*0.035])\n",
    "    parteCentrale = CONE([larghezza*0.0175,larghezza*0.006])(larghezza)\n",
    "    parteCentrale2 = SPHERE(larghezza*0.0175)([larghezza*2,larghezza*2])\n",
    "    parteSuperiore = CONE([larghezza*0.0175,larghezza*0.03])(larghezza)\n",
    "    pilastro = STRUCT([parteInferiore, T([1,2,3])([larghezza*0.0175,larghezza*0.0175,larghezza*0.035])(parteCentrale), T([1,2,3])([larghezza*0.0175,larghezza*0.0175,larghezza*0.039])(parteCentrale2), T([1,2,3])([larghezza*0.0175,larghezza*0.0175,larghezza*0.05])(parteSuperiore)])\n",
    "    pilastri = STRUCT(NN(10)([pilastro, T(1)(larghezza*0.037)]))\n",
    "    baseSuperiore = CUBOID([larghezza*0.37,larghezza*0.035,larghezza*0.02])\n",
    "    completa = STRUCT([pilastri, T(3)(larghezza*0.08)(baseSuperiore)])\n",
    "    return completa\n",
    "VIEW(ringhiera(10))"
   ]
  },
  {
   "cell_type": "markdown",
   "metadata": {},
   "source": [
    "![\"Workshop Finale 4\"](Workshop Finale 4.jpg)"
   ]
  },
  {
   "cell_type": "code",
   "execution_count": 46,
   "metadata": {},
   "outputs": [
    {
     "data": {
      "text/plain": [
       "<pyplasm.xgepy.Hpc; proxy of <Swig Object of type 'std::shared_ptr< Hpc > *' at 0x000002CAE5F44F00> >"
      ]
     },
     "execution_count": 46,
     "metadata": {},
     "output_type": "execute_result"
    }
   ],
   "source": [
    "def scala(larghezza):\n",
    "    Gradino1 = CYLINDER([larghezza*0.175,larghezza*0.016])(60)\n",
    "    Gradino2 = T(3)(-larghezza*0.016) (CYLINDER([larghezza*0.225,larghezza*0.016])(60))\n",
    "    Gradino3 = T(3)(-larghezza*0.032) (CYLINDER([larghezza*0.275, larghezza*0.016])(60))\n",
    "    Gradino4 = T(3)(-larghezza*0.048) (CYLINDER([larghezza*0.325, larghezza*0.016])(60))\n",
    "    Gradino5 = T(3)(-larghezza*0.064) (CYLINDER([larghezza*0.375, larghezza*0.016])(60))\n",
    "    Gradino6 = T(3)(-larghezza*0.08) (CYLINDER([larghezza*0.425, larghezza*0.016])(60))\n",
    "    Gradini = STRUCT([Gradino1, Gradino2, Gradino3, Gradino4, Gradino5, Gradino6])\n",
    "    Taglio = T([1,3])([-larghezza*0.425,-larghezza*0.08])(CUBOID([larghezza*0.85,larghezza*0.85,larghezza*0.85]))\n",
    "    ScalaFinale = DIFFERENCE([Gradini,Taglio])\n",
    "    return ScalaFinale\n",
    "VIEW(scala(10))"
   ]
  },
  {
   "cell_type": "markdown",
   "metadata": {},
   "source": [
    "![\"Workshop Finale 5\"](Workshop Finale 5.jpg)"
   ]
  },
  {
   "cell_type": "code",
   "execution_count": 49,
   "metadata": {},
   "outputs": [
    {
     "name": "stdout",
     "output_type": "stream",
     "text": [
      "Child 3\n",
      "Child 3\n",
      "Child 3\n",
      "Child 3\n",
      "Child 3\n"
     ]
    },
    {
     "data": {
      "text/plain": [
       "<pyplasm.xgepy.Hpc; proxy of <Swig Object of type 'std::shared_ptr< Hpc > *' at 0x000002CAE5F700C0> >"
      ]
     },
     "execution_count": 49,
     "metadata": {},
     "output_type": "execute_result"
    }
   ],
   "source": [
    "def facciataAnterioreCentrale(larghezza):\n",
    "    parteCentrale = CUBOID([larghezza*2.13,larghezza*0.1,larghezza*1.0])\n",
    "    archiFinali = STRUCT([T([1,2])([larghezza*0.525, larghezza*0.05])(arco(10)),T([1,2])([larghezza*1.065, larghezza*0.05])(arco(10)), T([1,2])([larghezza*1.605, larghezza*0.05])(arco(10))])\n",
    "    archi = DIFFERENCE([parteCentrale, archiFinali])\n",
    "    scalaAnteriore = T(1)(larghezza*1.065)(scala(10))\n",
    "    parteInferiore = T(3)(-larghezza*0.08)(CUBOID([larghezza*2.13,larghezza*0.1,larghezza*0.08]))\n",
    "    ringhieraFinale = STRUCT([T(1)(larghezza*0.35)(ringhiera(10)), T(1)(larghezza*1.43)(ringhiera(10))])\n",
    "    return STRUCT([archi, scalaAnteriore, parteInferiore, ringhieraFinale])\n",
    "VIEW(facciataAnterioreCentrale(10))"
   ]
  },
  {
   "cell_type": "markdown",
   "metadata": {},
   "source": [
    "![\"Workshop Finale 8\"](Workshop Finale 8.jpg)"
   ]
  },
  {
   "cell_type": "code",
   "execution_count": 50,
   "metadata": {},
   "outputs": [
    {
     "name": "stdout",
     "output_type": "stream",
     "text": [
      "Child 3\n",
      "Child 3\n",
      "Child 3\n",
      "Child 3\n",
      "Child 3\n"
     ]
    },
    {
     "data": {
      "text/plain": [
       "<pyplasm.xgepy.Hpc; proxy of <Swig Object of type 'std::shared_ptr< Hpc > *' at 0x000002CAE5F70F90> >"
      ]
     },
     "execution_count": 50,
     "metadata": {},
     "output_type": "execute_result"
    }
   ],
   "source": [
    "def VillaPisani(larghezza):\n",
    "    muroLateraleInterno = CUBOID([larghezza*0.04,larghezza*1.0,larghezza*1.68])\n",
    "    muroLateraleInterno2 = STRUCT(NN(2)([T([1,2,3])([-larghezza*0.04, larghezza*0.04, -larghezza*0.08])(muroLateraleInterno),T(1)(larghezza*2.17)]))\n",
    "    muroLateraleAnteriore = CUBOID([larghezza*1.0, larghezza*0.04, larghezza*1.68])\n",
    "    finestreBasse = S([1,3])([larghezza*0.143, larghezza*0.143])(finestraPiccola(10))\n",
    "    finestreAlte = S(1)(larghezza*0.143)(finestraGrande(10))\n",
    "    finestreGrandiMuroLaterale = STRUCT(NN(2)([T([1,2,3])([larghezza*0.465, -larghezza*0.02, larghezza*1.35])(finestreAlte), T(3)(-larghezza*0.7)]))\n",
    "    finestrePiccoleML = T([1,2,3])([larghezza*0.465, -larghezza*0.02, larghezza*0.06])(finestreBasse)\n",
    "    muriLateraliCompleti = STRUCT([muroLateraleAnteriore, finestreGrandiMuroLaterale, finestrePiccoleML])\n",
    "    muriLateraliAnteriori = STRUCT(NN(2)([T([1,3])([-larghezza*1.0, -larghezza*0.08])(muriLateraliCompleti), T(1)(larghezza*3.13)]))\n",
    "    muroSingolodaRuotare = STRUCT([muroLateraleAnteriore, finestreGrandiMuroLaterale, finestrePiccoleML])\n",
    "    muroRuotatoaDestra = R([1,2])(PI/2)(muroSingolodaRuotare)\n",
    "    muroLaterale = CUBOID([larghezza*2.13, larghezza*0.04, larghezza*1.6])\n",
    "    finestrePiccoleMD = STRUCT(NN(3)([T([1,2,3])([larghezza*0.3, -larghezza*0.02, larghezza*1.35])(finestreBasse), T(1)(-larghezza*0.9), T(1)(larghezza*1.6)]))\n",
    "    finestreGrandiMD = STRUCT(NN(3)([T([1,2,3])([larghezza*0.3, -larghezza*0.02, larghezza*0.7])(finestreAlte), T(1)(-larghezza*0.9), T(1)(larghezza*1.6)]))\n",
    "    finestrePiccoleSotto = STRUCT(NN(3)([T([1,2,3])([larghezza*0.3, -larghezza*0.02, larghezza*0.06])(finestreBasse), T(1)(-larghezza*0.9), T(1)(larghezza*1.6)]))\n",
    "    muroLaterale2 = STRUCT([muroLaterale, finestrePiccoleMD, finestreGrandiMD, finestrePiccoleSotto])\n",
    "    muroDestroRuotato = R([1,2])(PI/2)(muroLaterale2)\n",
    "    facciataLateraleDestra = STRUCT([muroRuotatoaDestra, T(2)(larghezza*1.0)(muroDestroRuotato)])\n",
    "    facciataLateraleDestra2 = T([1,3])([larghezza*3.13,-larghezza*0.08])(facciataLateraleDestra)\n",
    "    muroRuotatoaSinistra = R([2,1])(PI/2)(muroSingolodaRuotare)\n",
    "    muroSinistroRuotato = R([2,1])(PI/2)(muroLaterale2)\n",
    "    facciataLateraleSinistra = STRUCT([muroRuotatoaSinistra, T(2)(larghezza*2.1)(muroSinistroRuotato)])\n",
    "    facciataLateraleSinistra2 = T([1,2,3])([-larghezza*1.0, larghezza*1.04, -larghezza*0.08])(facciataLateraleSinistra)\n",
    "    muroPosteriore = CUBOID([larghezza*4.13, larghezza*0.04, larghezza*1.68])\n",
    "    finestrePiccoleMPaSinistra = STRUCT(NN(2)([T([1,2,3])([larghezza*0.3, -larghezza*0.02, larghezza*1.35])(finestreBasse), T(1)(larghezza*0.585)]))\n",
    "    finestreGrandiMPaSinistra = STRUCT(NN(2)([T([1,2,3])([larghezza*0.3, -larghezza*0.02, larghezza*0.7])(finestreAlte), T(1)(larghezza*0.585)]))\n",
    "    finestrePiccoleMPinBasso = STRUCT(NN(2)([T([1,2,3])([larghezza*0.3, -larghezza*0.02, larghezza*0.06])(finestreBasse), T(1)(larghezza*0.585)]))\n",
    "    parteSinistraPosteriore = STRUCT([finestrePiccoleMPaSinistra, finestreGrandiMPaSinistra, finestrePiccoleMPinBasso]) \n",
    "    scalaPosteriore2 = R([1,2])(PI)(scalaPosteriore(10))\n",
    "    scalaPosteriore3 = T([1,3])([larghezza*2.5, larghezza*0.18])(scalaPosteriore2)\n",
    "    finestreParteDestra = STRUCT([finestrePiccoleMPaSinistra, finestreGrandiMPaSinistra, finestrePiccoleMPinBasso])\n",
    "    finestreParteDestra2 = T(1)(larghezza*2.75)(finestreParteDestra)\n",
    "    portaGrande=S([1,3])([larghezza*0.234,larghezza*0.234])(finestreAlte)\n",
    "    porta = T([1,2,3])([larghezza*2.015, -larghezza*0.02, larghezza*0.18])(portaGrande)\n",
    "    porticine = T([1,2,3])([larghezza*1.78, -larghezza*0.02, larghezza*0.29])(portaGrande)\n",
    "    porticine2 = T([1,2,3])([larghezza*2.23, -larghezza*0.02, larghezza*0.29])(portaGrande)\n",
    "    parteCentralePosteriore = STRUCT([scalaPosteriore3, porta, porticine, porticine2])\n",
    "    partePosterioreFinale = STRUCT([muroPosteriore, parteSinistraPosteriore, finestreParteDestra2, parteCentralePosteriore])\n",
    "    partePosterioreRuotata = R([2,1])(PI)(partePosterioreFinale)\n",
    "    PosterioreTraslato = T([1,2,3])([larghezza*3.13,larghezza*3.17,-larghezza*0.08])(partePosterioreRuotata)\n",
    "    tettoGrandeTraslato = T([1,2,3])([larghezza*1.098, larghezza*1.45, larghezza*1.6])(TettoGrande(10))\n",
    "    pavimentoTraslato = T([1,2,3])([-larghezza*1.0,-larghezza*0.04,-larghezza*0.08])(pavimento(10))\n",
    "    return STRUCT([PosterioreTraslato, facciataLateraleDestra2, muriLateraliAnteriori, facciataLateraleSinistra2, pavimentoTraslato, tettoGrandeTraslato, facciataAnterioreCentrale(10)])\n",
    "VIEW(VillaPisani(10))"
   ]
  },
  {
   "cell_type": "markdown",
   "metadata": {},
   "source": [
    "![\"Workshop Finale 9\"](Workshop Finale 9.jpg)"
   ]
  },
  {
   "cell_type": "markdown",
   "metadata": {},
   "source": [
    "![\"Workshop Finale 10\"](Workshop Finale 10.jpg)"
   ]
  },
  {
   "cell_type": "markdown",
   "metadata": {},
   "source": [
    "![\"Workshop Finale 11\"](Workshop Finale 11.jpg)"
   ]
  },
  {
   "cell_type": "code",
   "execution_count": 47,
   "metadata": {},
   "outputs": [
    {
     "data": {
      "text/plain": [
       "<pyplasm.xgepy.Hpc; proxy of <Swig Object of type 'std::shared_ptr< Hpc > *' at 0x000002CAE5F70750> >"
      ]
     },
     "execution_count": 47,
     "metadata": {},
     "output_type": "execute_result"
    }
   ],
   "source": [
    "def scalaPosteriore(larghezza):\n",
    "    gradino1 = CUBOID([larghezza*0.77, larghezza*0.03, larghezza*0.02])\n",
    "    gradino2 = T(3)(-larghezza*0.02)(CUBOID([larghezza*0.77, larghezza*0.06, larghezza*0.02]))\n",
    "    gradino3 = T(3)(-larghezza*0.04)(CUBOID([larghezza*0.77, larghezza*0.09, larghezza*0.02]))\n",
    "    gradino4 = T(3)(-larghezza*0.06)(CUBOID([larghezza*0.77, larghezza*0.12, larghezza*0.02]))\n",
    "    gradino5 = T(3)(-larghezza*0.08)(CUBOID([larghezza*0.77, larghezza*0.15, larghezza*0.02]))\n",
    "    gradino6 = T(3)(-larghezza*0.1)(CUBOID([larghezza*0.77, larghezza*0.18, larghezza*0.02]))\n",
    "    gradino7 = T(3)(-larghezza*0.12)(CUBOID([larghezza*0.77, larghezza*0.21, larghezza*0.02]))\n",
    "    gradino8 = T(3)(-larghezza*0.14)(CUBOID([larghezza*0.77, larghezza*0.24, larghezza*0.02]))\n",
    "    gradino9 = T(3)(-larghezza*0.16)(CUBOID([larghezza*0.77, larghezza*0.27, larghezza*0.02]))\n",
    "    gradino10 = T(3)(-larghezza*0.18)(CUBOID([larghezza*0.77, larghezza*0.3, larghezza*0.02]))\n",
    "    cono = JOIN(R([1,2])(PI/4)(CONE([larghezza*0.425,larghezza*0.23])(4)))\n",
    "    cubo = CUBOID([larghezza*0.04, larghezza*0.6, larghezza*0.2])\n",
    "    corrimano = INTERSECTION([cono, cubo])\n",
    "    corrimanoTraslato = T([1,3])([larghezza*-0.04,larghezza*-0.18])(corrimano)\n",
    "    corrimano2 = STRUCT(NN(2)([corrimanoTraslato, T(1)(larghezza*0.81)]))\n",
    "    gradini = STRUCT([gradino1, gradino2, gradino3, gradino4, gradino5, gradino6, gradino7, gradino8, gradino9, gradino10])\n",
    "    return STRUCT([corrimano2, gradini])\n",
    "VIEW(scalaPosteriore(10))"
   ]
  },
  {
   "cell_type": "markdown",
   "metadata": {},
   "source": [
    "![\"Workshop Finale 6\"](Workshop Finale 6.jpg)"
   ]
  },
  {
   "cell_type": "code",
   "execution_count": 48,
   "metadata": {},
   "outputs": [
    {
     "data": {
      "text/plain": [
       "<pyplasm.xgepy.Hpc; proxy of <Swig Object of type 'std::shared_ptr< Hpc > *' at 0x000002CAE2231F30> >"
      ]
     },
     "execution_count": 48,
     "metadata": {},
     "output_type": "execute_result"
    }
   ],
   "source": [
    "def TettoGrande(larghezza):\n",
    "    tettoG = JOIN(R([1,2])(PI/4)(CONE([larghezza*2.89, larghezza*0.7])(4)))\n",
    "    return tettoG\n",
    "VIEW(TettoGrande(10))"
   ]
  },
  {
   "cell_type": "markdown",
   "metadata": {},
   "source": [
    "![\"Workshop Finale 7\"](Workshop Finale 7.jpg)"
   ]
  },
  {
   "cell_type": "code",
   "execution_count": 8,
   "metadata": {},
   "outputs": [
    {
     "data": {
      "text/plain": [
       "<pyplasm.xgepy.Hpc; proxy of <Swig Object of type 'std::shared_ptr< Hpc > *' at 0x000002CAE2231660> >"
      ]
     },
     "execution_count": 8,
     "metadata": {},
     "output_type": "execute_result"
    }
   ],
   "source": [
    "def pavimento(larghezza):\n",
    "    pavimento2 = CUBOID([larghezza*4.13,larghezza*0.04,larghezza*3.22]) \n",
    "    pavimento3 = R([3,2])(PI/2)(pavimento2)\n",
    "    return pavimento3\n",
    "VIEW(pavimento(10))"
   ]
  }
 ],
 "metadata": {
  "kernelspec": {
   "display_name": "Python 3",
   "language": "python",
   "name": "python3"
  },
  "language_info": {
   "codemirror_mode": {
    "name": "ipython",
    "version": 3
   },
   "file_extension": ".py",
   "mimetype": "text/x-python",
   "name": "python",
   "nbconvert_exporter": "python",
   "pygments_lexer": "ipython3",
   "version": "3.6.3"
  }
 },
 "nbformat": 4,
 "nbformat_minor": 2
}
